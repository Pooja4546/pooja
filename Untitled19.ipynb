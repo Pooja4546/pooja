{
  "nbformat": 4,
  "nbformat_minor": 0,
  "metadata": {
    "colab": {
      "provenance": [],
      "authorship_tag": "ABX9TyNzWB7/7ZWwJ1riuBsnyQ5Z",
      "include_colab_link": true
    },
    "kernelspec": {
      "name": "python3",
      "display_name": "Python 3"
    },
    "language_info": {
      "name": "python"
    }
  },
  "cells": [
    {
      "cell_type": "markdown",
      "metadata": {
        "id": "view-in-github",
        "colab_type": "text"
      },
      "source": [
        "<a href=\"https://colab.research.google.com/github/Pooja4546/pooja/blob/main/Untitled19.ipynb\" target=\"_parent\"><img src=\"https://colab.research.google.com/assets/colab-badge.svg\" alt=\"Open In Colab\"/></a>"
      ]
    },
    {
      "cell_type": "code",
      "execution_count": 12,
      "metadata": {
        "colab": {
          "base_uri": "https://localhost:8080/"
        },
        "id": "zUQzzDSdc7pQ",
        "outputId": "32898c77-ba35-4a87-e2cf-1268b30ea6b3"
      },
      "outputs": [
        {
          "output_type": "stream",
          "name": "stdout",
          "text": [
            "Requirement already satisfied: pandas in /usr/local/lib/python3.10/dist-packages (1.5.3)\n",
            "Requirement already satisfied: python-dateutil>=2.8.1 in /usr/local/lib/python3.10/dist-packages (from pandas) (2.8.2)\n",
            "Requirement already satisfied: pytz>=2020.1 in /usr/local/lib/python3.10/dist-packages (from pandas) (2023.4)\n",
            "Requirement already satisfied: numpy>=1.21.0 in /usr/local/lib/python3.10/dist-packages (from pandas) (1.23.5)\n",
            "Requirement already satisfied: six>=1.5 in /usr/local/lib/python3.10/dist-packages (from python-dateutil>=2.8.1->pandas) (1.16.0)\n"
          ]
        }
      ],
      "source": [
        "!pip install pandas"
      ]
    },
    {
      "cell_type": "code",
      "source": [
        "import pandas as cars\n",
        "mydataset = {\n",
        "    'cars':[\"bmw\",\"volvo\",\"swift\"],\n",
        "    'passings':[2, 7, 3]\n",
        "}\n",
        "mycar = cars.DataFrame(mydataset)\n",
        "print(mycar)"
      ],
      "metadata": {
        "colab": {
          "base_uri": "https://localhost:8080/"
        },
        "id": "BsQTOnqOgMjV",
        "outputId": "34cf04ac-6e65-476b-951d-762789e45d9c"
      },
      "execution_count": 13,
      "outputs": [
        {
          "output_type": "stream",
          "name": "stdout",
          "text": [
            "    cars  passings\n",
            "0    bmw         2\n",
            "1  volvo         7\n",
            "2  swift         3\n"
          ]
        }
      ]
    },
    {
      "cell_type": "code",
      "source": [
        "from tabulate import tabulate\n",
        "print(tabulate([['aditi',19],['pooja',16],\n",
        "                ['radha',12],['mona',14],\n",
        "                ['raja',45],['kanu',50]],\n",
        "                headers=['name','age']))"
      ],
      "metadata": {
        "colab": {
          "base_uri": "https://localhost:8080/"
        },
        "id": "v21EIsJehHEG",
        "outputId": "cc49c468-5285-4acb-cbf8-d8d5c89dac60"
      },
      "execution_count": 17,
      "outputs": [
        {
          "output_type": "stream",
          "name": "stdout",
          "text": [
            "name      age\n",
            "------  -----\n",
            "aditi      19\n",
            "pooja      16\n",
            "radha      12\n",
            "mona       14\n",
            "raja       45\n",
            "kanu       50\n"
          ]
        }
      ]
    },
    {
      "cell_type": "code",
      "source": [
        "from tabulate import tabulate\n",
        "import pandas as pd\n",
        "dict={'name':['sonu','rashi','jyoti','priya'],\n",
        "      'maths':[88,78,98,97],\n",
        "      'science':[93,87,78,98]}\n",
        "df=pd.DataFrame(dict)\n",
        "print(tabulate(df,headers='keys',tablefmt='psql'))\n"
      ],
      "metadata": {
        "colab": {
          "base_uri": "https://localhost:8080/"
        },
        "id": "bmJPMrhjjm60",
        "outputId": "11932ea7-ca2c-4917-e41f-a108cff51559"
      },
      "execution_count": 21,
      "outputs": [
        {
          "output_type": "stream",
          "name": "stdout",
          "text": [
            "+----+--------+---------+-----------+\n",
            "|    | name   |   maths |   science |\n",
            "|----+--------+---------+-----------|\n",
            "|  0 | sonu   |      88 |        93 |\n",
            "|  1 | rashi  |      78 |        87 |\n",
            "|  2 | jyoti  |      98 |        78 |\n",
            "|  3 | priya  |      97 |        98 |\n",
            "+----+--------+---------+-----------+\n"
          ]
        }
      ]
    },
    {
      "cell_type": "code",
      "source": [],
      "metadata": {
        "id": "jr9ZlTZRlYvm"
      },
      "execution_count": 27,
      "outputs": []
    }
  ]
}
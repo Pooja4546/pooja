{
  "nbformat": 4,
  "nbformat_minor": 0,
  "metadata": {
    "colab": {
      "provenance": [],
      "authorship_tag": "ABX9TyOIWPlov+6cuKqrPqcEIAKn",
      "include_colab_link": true
    },
    "kernelspec": {
      "name": "python3",
      "display_name": "Python 3"
    },
    "language_info": {
      "name": "python"
    }
  },
  "cells": [
    {
      "cell_type": "markdown",
      "metadata": {
        "id": "view-in-github",
        "colab_type": "text"
      },
      "source": [
        "<a href=\"https://colab.research.google.com/github/Pooja4546/pooja/blob/main/Untitled8.ipynb\" target=\"_parent\"><img src=\"https://colab.research.google.com/assets/colab-badge.svg\" alt=\"Open In Colab\"/></a>"
      ]
    },
    {
      "cell_type": "code",
      "execution_count": 1,
      "metadata": {
        "colab": {
          "base_uri": "https://localhost:8080/"
        },
        "id": "4lcsPXnFsnkf",
        "outputId": "5126efd5-b704-4255-f6b5-b48e4f987792"
      },
      "outputs": [
        {
          "output_type": "stream",
          "name": "stdout",
          "text": [
            "['g', 'e', 'e', 'k', 's']\n"
          ]
        }
      ],
      "source": [
        "string =\"geeks\"\n",
        "print([*string])"
      ]
    },
    {
      "cell_type": "code",
      "source": [
        "str1=input(\"enter the string\")\n",
        "str2=\"\"\n",
        "for i in range(1,len(str1)+1):\n",
        " if (i%2==0):\n",
        "  str2=str2+str1[i-1]\n",
        "print(\"orignal string\", str1)\n",
        "print(\"final string\", str2)"
      ],
      "metadata": {
        "colab": {
          "base_uri": "https://localhost:8080/"
        },
        "id": "UG18aga6tTYb",
        "outputId": "70c77f81-02f0-4c5d-b5df-f06a59a3a159"
      },
      "execution_count": 7,
      "outputs": [
        {
          "output_type": "stream",
          "name": "stdout",
          "text": [
            "enter the stringpooja\n",
            "orignal string pooja\n",
            "final string oj\n"
          ]
        }
      ]
    },
    {
      "cell_type": "code",
      "source": [
        "import random\n",
        "print (random.randint(1,2000))"
      ],
      "metadata": {
        "colab": {
          "base_uri": "https://localhost:8080/"
        },
        "id": "5l7pMuAHw2tn",
        "outputId": "ef1e4ab3-7292-472a-ca21-6dd31dc97e49"
      },
      "execution_count": 15,
      "outputs": [
        {
          "output_type": "stream",
          "name": "stdout",
          "text": [
            "82\n"
          ]
        }
      ]
    },
    {
      "cell_type": "code",
      "source": [
        "print(\"marks obtaind in 5 subjects:\")\n",
        "total1=45\n",
        "total2=93\n",
        "total3=47\n",
        "total4=56\n",
        "total5=63\n",
        "tot=total1+total2+total3+total4+total14\n",
        "avg=tot/5\n",
        "if avg >=91 and avg<=100:\n",
        "  print(\"your great A1\")\n",
        "  elif avg >=81 and avg<=91:\n",
        "  print(\"your great A2\")\n",
        "  elif avg >=71 and avg<=81:\n",
        "  print(\"your great A3\")\n",
        "  elif avg >="
      ],
      "metadata": {
        "id": "EGEa3ks5yFZZ"
      },
      "execution_count": null,
      "outputs": []
    }
  ]
}
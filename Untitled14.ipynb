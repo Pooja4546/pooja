{
  "nbformat": 4,
  "nbformat_minor": 0,
  "metadata": {
    "colab": {
      "provenance": [],
      "authorship_tag": "ABX9TyNvS/P4q+mo0eYXlTseJ/YY",
      "include_colab_link": true
    },
    "kernelspec": {
      "name": "python3",
      "display_name": "Python 3"
    },
    "language_info": {
      "name": "python"
    }
  },
  "cells": [
    {
      "cell_type": "markdown",
      "metadata": {
        "id": "view-in-github",
        "colab_type": "text"
      },
      "source": [
        "<a href=\"https://colab.research.google.com/github/Pooja4546/pooja/blob/main/Untitled14.ipynb\" target=\"_parent\"><img src=\"https://colab.research.google.com/assets/colab-badge.svg\" alt=\"Open In Colab\"/></a>"
      ]
    },
    {
      "cell_type": "code",
      "execution_count": 2,
      "metadata": {
        "colab": {
          "base_uri": "https://localhost:8080/",
          "height": 0
        },
        "id": "FFImf1EGvjdI",
        "outputId": "988638ec-85bc-4ba5-8f39-67c22ea4a22b"
      },
      "outputs": [
        {
          "output_type": "stream",
          "name": "stdout",
          "text": [
            "{'apple', 'grapes', 'mango'}\n"
          ]
        }
      ],
      "source": [
        "set={\"mango\",\"apple\",\"grapes\"}\n",
        "print(set)"
      ]
    },
    {
      "cell_type": "code",
      "source": [
        "set={\"mango\",\"apple\",\"grapes\"}\n",
        "print(set)\n",
        "print(type(set))"
      ],
      "metadata": {
        "colab": {
          "base_uri": "https://localhost:8080/",
          "height": 0
        },
        "id": "rO8rxCuiwhJs",
        "outputId": "9b70739c-e356-4e6b-a831-d02b0022097c"
      },
      "execution_count": 4,
      "outputs": [
        {
          "output_type": "stream",
          "name": "stdout",
          "text": [
            "{'apple', 'grapes', 'mango'}\n",
            "<class 'set'>\n"
          ]
        }
      ]
    },
    {
      "cell_type": "code",
      "source": [
        "print(set)\n",
        "set.remove(\"apple\")\n",
        "print(set)"
      ],
      "metadata": {
        "colab": {
          "base_uri": "https://localhost:8080/",
          "height": 0
        },
        "id": "p0VmfjEQxDid",
        "outputId": "80230069-2c98-45c7-f8e0-1c77b0b9c7a1"
      },
      "execution_count": 5,
      "outputs": [
        {
          "output_type": "stream",
          "name": "stdout",
          "text": [
            "{'apple', 'grapes', 'mango'}\n",
            "{'grapes', 'mango'}\n"
          ]
        }
      ]
    },
    {
      "cell_type": "code",
      "source": [
        "print(set)\n",
        "set.add(\"banana\")\n",
        "print(set)"
      ],
      "metadata": {
        "colab": {
          "base_uri": "https://localhost:8080/",
          "height": 0
        },
        "id": "R5Yipi4txYat",
        "outputId": "1dd955bc-4a36-4bf1-f6cc-b03efeddf07a"
      },
      "execution_count": 6,
      "outputs": [
        {
          "output_type": "stream",
          "name": "stdout",
          "text": [
            "{'grapes', 'mango'}\n",
            "{'banana', 'grapes', 'mango'}\n"
          ]
        }
      ]
    },
    {
      "cell_type": "code",
      "source": [
        "set={\"apple\",\"grapes\",\"mango\"}\n",
        "print(set)\n",
        "set1=(\"banana\")\n",
        "set.update(set1)\n",
        "print(set)\n"
      ],
      "metadata": {
        "colab": {
          "base_uri": "https://localhost:8080/"
        },
        "id": "V9V3yVtlydW6",
        "outputId": "af565000-deff-4174-a012-0ce14f42589e"
      },
      "execution_count": 10,
      "outputs": [
        {
          "output_type": "stream",
          "name": "stdout",
          "text": [
            "{'apple', 'grapes', 'mango'}\n",
            "{'apple', 'n', 'a', 'grapes', 'mango', 'b'}\n"
          ]
        }
      ]
    },
    {
      "cell_type": "code",
      "source": [
        "set={\"pooja\",\"ram\",\"sonu\"}\n",
        "print(set)\n",
        "my_list=tuple(set)\n",
        "print(set)"
      ],
      "metadata": {
        "colab": {
          "base_uri": "https://localhost:8080/"
        },
        "id": "KcoeF7XGzaxh",
        "outputId": "340f55d6-16dd-4826-90e5-a17bcb3d0f91"
      },
      "execution_count": 11,
      "outputs": [
        {
          "output_type": "stream",
          "name": "stdout",
          "text": [
            "{'ram', 'pooja', 'sonu'}\n",
            "{'ram', 'pooja', 'sonu'}\n"
          ]
        }
      ]
    },
    {
      "cell_type": "code",
      "source": [
        "set={\"pooja\",\"ram\",\"sonu\"}\n",
        "print(set)\n",
        "set.discard(\"ram\")\n",
        "print(set)"
      ],
      "metadata": {
        "colab": {
          "base_uri": "https://localhost:8080/"
        },
        "id": "1-SLz-Hp0u5X",
        "outputId": "e58b304c-8bda-4b1a-d748-4ecee4285957"
      },
      "execution_count": 13,
      "outputs": [
        {
          "output_type": "stream",
          "name": "stdout",
          "text": [
            "{'ram', 'pooja', 'sonu'}\n",
            "{'pooja', 'sonu'}\n"
          ]
        }
      ]
    },
    {
      "cell_type": "code",
      "source": [
        "set={\"pooja\",\"ram\",\"sonu\"}\n",
        "print(set)\n",
        "set.pop()\n",
        "print(set)"
      ],
      "metadata": {
        "colab": {
          "base_uri": "https://localhost:8080/"
        },
        "id": "QJU6eWxI1JyE",
        "outputId": "d53e4ad0-dacc-47c6-dfd9-75732f682f22"
      },
      "execution_count": 14,
      "outputs": [
        {
          "output_type": "stream",
          "name": "stdout",
          "text": [
            "{'ram', 'pooja', 'sonu'}\n",
            "{'pooja', 'sonu'}\n"
          ]
        }
      ]
    },
    {
      "cell_type": "code",
      "source": [
        "set={\"pooja\",\"ram\",\"sonu\"}\n",
        "print(set)\n",
        "set.clear()\n",
        "print(set)"
      ],
      "metadata": {
        "colab": {
          "base_uri": "https://localhost:8080/"
        },
        "id": "FFSUT4lP1jsv",
        "outputId": "db662939-7d06-4119-dfa9-98de8594c336"
      },
      "execution_count": 15,
      "outputs": [
        {
          "output_type": "stream",
          "name": "stdout",
          "text": [
            "{'ram', 'pooja', 'sonu'}\n",
            "set()\n"
          ]
        }
      ]
    },
    {
      "cell_type": "code",
      "source": [
        "set={\"pooja\",\"ram\",\"sonu\"}\n",
        "print(set)\n",
        "print(id(set))"
      ],
      "metadata": {
        "colab": {
          "base_uri": "https://localhost:8080/"
        },
        "id": "8f__1CB01_7V",
        "outputId": "4f801b32-22fb-407b-c173-ea4904f0da2a"
      },
      "execution_count": 17,
      "outputs": [
        {
          "output_type": "stream",
          "name": "stdout",
          "text": [
            "{'ram', 'pooja', 'sonu'}\n",
            "132446896076192\n"
          ]
        }
      ]
    },
    {
      "cell_type": "code",
      "source": [
        "set={\"pooja\",\"ram\",\"sonu\"}\n",
        "set1=(\"s\",\"m\",\"h\")\n",
        "set1=set.union(set1)\n",
        "print(set1)"
      ],
      "metadata": {
        "colab": {
          "base_uri": "https://localhost:8080/"
        },
        "id": "d8ajI-nN23Mw",
        "outputId": "b706f63f-eed5-4372-aa36-3bc25b25db8d"
      },
      "execution_count": 19,
      "outputs": [
        {
          "output_type": "stream",
          "name": "stdout",
          "text": [
            "{'ram', 'h', 'm', 'sonu', 'pooja', 's'}\n"
          ]
        }
      ]
    },
    {
      "cell_type": "code",
      "source": [
        "set={\"pooja\",\"ram\",\"sonu\"}\n",
        "set1=(\"pooja\",\"m\",\"h\")\n",
        "set1=set.intersection(set1)\n",
        "print(set1)"
      ],
      "metadata": {
        "colab": {
          "base_uri": "https://localhost:8080/"
        },
        "id": "GkKjyU064P7y",
        "outputId": "d6b6a501-a909-4e62-ae0b-db90987b6ef0"
      },
      "execution_count": 21,
      "outputs": [
        {
          "output_type": "stream",
          "name": "stdout",
          "text": [
            "{'pooja'}\n"
          ]
        }
      ]
    }
  ]
}
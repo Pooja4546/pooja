{
  "nbformat": 4,
  "nbformat_minor": 0,
  "metadata": {
    "colab": {
      "provenance": [],
      "authorship_tag": "ABX9TyNbxMTjT8poDIPd/Ne9tbeB",
      "include_colab_link": true
    },
    "kernelspec": {
      "name": "python3",
      "display_name": "Python 3"
    },
    "language_info": {
      "name": "python"
    }
  },
  "cells": [
    {
      "cell_type": "markdown",
      "metadata": {
        "id": "view-in-github",
        "colab_type": "text"
      },
      "source": [
        "<a href=\"https://colab.research.google.com/github/Pooja4546/pooja/blob/main/Untitled9.ipynb\" target=\"_parent\"><img src=\"https://colab.research.google.com/assets/colab-badge.svg\" alt=\"Open In Colab\"/></a>"
      ]
    },
    {
      "cell_type": "code",
      "execution_count": 3,
      "metadata": {
        "colab": {
          "base_uri": "https://localhost:8080/"
        },
        "id": "L4sHaZv30nWw",
        "outputId": "31f7b208-479e-4c68-d8ea-c26e33fdfccf"
      },
      "outputs": [
        {
          "output_type": "stream",
          "name": "stdout",
          "text": [
            "nam\n"
          ]
        }
      ],
      "source": [
        "str= \"mynameispooja\"\n",
        "str1=str[2:5]\n",
        "print(str1)"
      ]
    },
    {
      "cell_type": "code",
      "source": [
        "string=\"pooja\"\n",
        "string.upper()\n",
        "print(string.upper())"
      ],
      "metadata": {
        "colab": {
          "base_uri": "https://localhost:8080/"
        },
        "id": "P2A29jxd2rYT",
        "outputId": "b40f3987-2d14-4c77-c31d-a2022e362db4"
      },
      "execution_count": 4,
      "outputs": [
        {
          "output_type": "stream",
          "name": "stdout",
          "text": [
            "POOJA\n"
          ]
        }
      ]
    },
    {
      "cell_type": "code",
      "source": [
        "s=\"   pooja    \"\n",
        "print(s)\n",
        "str = s.strip()\n",
        "print(str)"
      ],
      "metadata": {
        "colab": {
          "base_uri": "https://localhost:8080/"
        },
        "id": "qVk8vOOT3WUK",
        "outputId": "c4d875b8-098d-4a22-fd54-7ea0ad58a543"
      },
      "execution_count": 5,
      "outputs": [
        {
          "output_type": "stream",
          "name": "stdout",
          "text": [
            "   pooja    \n",
            "pooja\n"
          ]
        }
      ]
    },
    {
      "cell_type": "code",
      "source": [
        "string=\"POOJA\"\n",
        "string.lower()\n",
        "print(string.lower())"
      ],
      "metadata": {
        "colab": {
          "base_uri": "https://localhost:8080/"
        },
        "id": "gIFnGg1G4Iir",
        "outputId": "08cca498-c7de-41e9-b54e-314691276ade"
      },
      "execution_count": 7,
      "outputs": [
        {
          "output_type": "stream",
          "name": "stdout",
          "text": [
            "pooja\n"
          ]
        }
      ]
    },
    {
      "cell_type": "code",
      "source": [
        "str=\"my name is pooja\"\n",
        "str1=str.replace(\"pooja\",\"radhika\")\n",
        "print(str1)"
      ],
      "metadata": {
        "colab": {
          "base_uri": "https://localhost:8080/"
        },
        "id": "whR1AHW15Wuo",
        "outputId": "795d95fc-dadc-4f83-972c-29a95eae9f8a"
      },
      "execution_count": 8,
      "outputs": [
        {
          "output_type": "stream",
          "name": "stdout",
          "text": [
            "my name is radhika\n"
          ]
        }
      ]
    },
    {
      "cell_type": "code",
      "source": [
        "str=\"my name is pooja my \"\n",
        "str1=str.count(\"my\")\n",
        "print(str1)"
      ],
      "metadata": {
        "colab": {
          "base_uri": "https://localhost:8080/"
        },
        "id": "LEW31Ar46FiO",
        "outputId": "a2096dae-8811-4092-9a24-cc06e5b4a3c7"
      },
      "execution_count": 9,
      "outputs": [
        {
          "output_type": "stream",
          "name": "stdout",
          "text": [
            "2\n"
          ]
        }
      ]
    },
    {
      "cell_type": "code",
      "source": [
        "str=\"pooja\"\n",
        "str1=str.count(\"pooja\")\n",
        "print(str1)"
      ],
      "metadata": {
        "colab": {
          "base_uri": "https://localhost:8080/"
        },
        "id": "KDajCy3c7vs4",
        "outputId": "c9420d7a-9f18-4aaf-8ac9-81539622ff9d"
      },
      "execution_count": 10,
      "outputs": [
        {
          "output_type": "stream",
          "name": "stdout",
          "text": [
            "1\n"
          ]
        }
      ]
    },
    {
      "cell_type": "code",
      "source": [
        "str=\"my name is pooja name my\"\n",
        "str1=str.find(\"name\")\n",
        "print(str1)"
      ],
      "metadata": {
        "colab": {
          "base_uri": "https://localhost:8080/"
        },
        "id": "1v1uOF-M8awo",
        "outputId": "0244e15e-2406-464c-c102-5f5102cbd8e6"
      },
      "execution_count": 12,
      "outputs": [
        {
          "output_type": "stream",
          "name": "stdout",
          "text": [
            "3\n"
          ]
        }
      ]
    },
    {
      "cell_type": "code",
      "source": [
        "str=\"my name is{}\"\n",
        "str1=str.format(\"pooja\")\n",
        "print(str1)"
      ],
      "metadata": {
        "colab": {
          "base_uri": "https://localhost:8080/"
        },
        "id": "XMlPPoFq9h-Z",
        "outputId": "a575b480-2bee-4dd2-cf42-20299d446355"
      },
      "execution_count": 16,
      "outputs": [
        {
          "output_type": "stream",
          "name": "stdout",
          "text": [
            "my name ispooja\n"
          ]
        }
      ]
    },
    {
      "cell_type": "code",
      "source": [
        "str=\"i want{} from{} rupess{} amount{}\"\n",
        "print(str.format(\"money\",\"bank\",\"twenty\",\"20\"))\n"
      ],
      "metadata": {
        "colab": {
          "base_uri": "https://localhost:8080/"
        },
        "id": "3bkn4J05_Lx1",
        "outputId": "84a1cf0c-97f6-4400-b242-96c3d4334528"
      },
      "execution_count": 24,
      "outputs": [
        {
          "output_type": "stream",
          "name": "stdout",
          "text": [
            "i wantmoney frombank rupesstwenty amount20\n"
          ]
        }
      ]
    }
  ]
}
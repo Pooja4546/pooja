{
  "nbformat": 4,
  "nbformat_minor": 0,
  "metadata": {
    "colab": {
      "provenance": [],
      "authorship_tag": "ABX9TyOlSXDsM0qIaVjXlpLbwfWh",
      "include_colab_link": true
    },
    "kernelspec": {
      "name": "python3",
      "display_name": "Python 3"
    },
    "language_info": {
      "name": "python"
    }
  },
  "cells": [
    {
      "cell_type": "markdown",
      "metadata": {
        "id": "view-in-github",
        "colab_type": "text"
      },
      "source": [
        "<a href=\"https://colab.research.google.com/github/Pooja4546/pooja/blob/main/Untitled13.ipynb\" target=\"_parent\"><img src=\"https://colab.research.google.com/assets/colab-badge.svg\" alt=\"Open In Colab\"/></a>"
      ]
    },
    {
      "cell_type": "code",
      "execution_count": 5,
      "metadata": {
        "colab": {
          "base_uri": "https://localhost:8080/"
        },
        "id": "E7ctU2kVma5Q",
        "outputId": "8f069e46-8494-4b0e-b875-afb4f07ff86c"
      },
      "outputs": [
        {
          "output_type": "stream",
          "name": "stdout",
          "text": [
            "('radha', 'ram', 'sonu')\n"
          ]
        }
      ],
      "source": [
        "tuple=(\"radha\",\"ram\",\"sonu\")\n",
        "print(tuple)"
      ]
    },
    {
      "cell_type": "code",
      "source": [
        "name=(\"sonu\",\"pooja\",\"radhika\")\n",
        "print(name[1])\n",
        "name1=list(name)\n",
        "print(name1)\n",
        "name1.remove(\"pooja\")\n",
        "name=tuple(name1)\n",
        "print(name)"
      ],
      "metadata": {
        "colab": {
          "base_uri": "https://localhost:8080/"
        },
        "id": "4z3T5Jl7nx9c",
        "outputId": "26d18edf-0295-48db-cc91-9aef333f7d91"
      },
      "execution_count": 18,
      "outputs": [
        {
          "output_type": "stream",
          "name": "stdout",
          "text": [
            "pooja\n",
            "['sonu', 'pooja', 'radhika']\n",
            "('sonu', 'radhika')\n"
          ]
        }
      ]
    },
    {
      "cell_type": "code",
      "source": [
        "tuple=(4,6,8,9,2)\n",
        "print(\"original tuple\",tuple)\n",
        "mylist=list(tuple)\n",
        "print(\"convert tuple to list\",tuple)"
      ],
      "metadata": {
        "colab": {
          "base_uri": "https://localhost:8080/"
        },
        "id": "9_HpA6gMtgRc",
        "outputId": "94605655-eded-4d77-9ff8-e3fe937824cc"
      },
      "execution_count": 20,
      "outputs": [
        {
          "output_type": "stream",
          "name": "stdout",
          "text": [
            "original tuple (4, 6, 8, 9, 2)\n",
            "convert tuple to list (4, 6, 8, 9, 2)\n"
          ]
        }
      ]
    },
    {
      "cell_type": "code",
      "source": [
        "fruits=(\"mango\",\"grapes\",\"apple\",\"mango\")\n",
        "res=[]\n",
        "for j in range(len(fruits)):\n",
        "  my_fruit=fruits[j]\n",
        "  count=0\n",
        "  for i in range(len(fruits)):\n",
        "    if i==j:\n",
        "      continue\n",
        "    if fruits[i]==fruits[j]:\n",
        "        count+=1\n",
        "  if count >0:\n",
        "          if my_fruit not in res:\n",
        "            res.append(my_fruit)\n",
        "print(res)"
      ],
      "metadata": {
        "colab": {
          "base_uri": "https://localhost:8080/"
        },
        "id": "FX1npIDgvVGC",
        "outputId": "999ed8e4-d351-4a59-f252-e64597a7e780"
      },
      "execution_count": 45,
      "outputs": [
        {
          "output_type": "stream",
          "name": "stdout",
          "text": [
            "['mango']\n"
          ]
        }
      ]
    }
  ]
}
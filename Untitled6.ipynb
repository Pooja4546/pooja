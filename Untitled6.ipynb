{
  "nbformat": 4,
  "nbformat_minor": 0,
  "metadata": {
    "colab": {
      "provenance": [],
      "authorship_tag": "ABX9TyN9HjBPoeGy8YMhWZM5tpw2",
      "include_colab_link": true
    },
    "kernelspec": {
      "name": "python3",
      "display_name": "Python 3"
    },
    "language_info": {
      "name": "python"
    }
  },
  "cells": [
    {
      "cell_type": "markdown",
      "metadata": {
        "id": "view-in-github",
        "colab_type": "text"
      },
      "source": [
        "<a href=\"https://colab.research.google.com/github/Pooja4546/pooja/blob/main/Untitled6.ipynb\" target=\"_parent\"><img src=\"https://colab.research.google.com/assets/colab-badge.svg\" alt=\"Open In Colab\"/></a>"
      ]
    },
    {
      "cell_type": "code",
      "source": [
        "s=\"POOJA\"\n",
        "size = len(s)\n",
        "str=\"\"\n",
        "while size>-0:\n",
        "  size -=1\n",
        "  str+=s[size]\n",
        "print(str)"
      ],
      "metadata": {
        "colab": {
          "base_uri": "https://localhost:8080/"
        },
        "id": "GOCSeoWXLlx2",
        "outputId": "115460e1-e6e1-45c3-a134-d41dc0af21ca"
      },
      "execution_count": 15,
      "outputs": [
        {
          "output_type": "stream",
          "name": "stdout",
          "text": [
            "AJOOP\n"
          ]
        }
      ]
    },
    {
      "cell_type": "code",
      "source": [
        "s=\"My name is pooja\"\n",
        "size=len(s)\n",
        "str=\"\"\n",
        "while size>0:\n",
        "  size -=1\n",
        "  str+=s[size]\n",
        "print(str)"
      ],
      "metadata": {
        "colab": {
          "base_uri": "https://localhost:8080/"
        },
        "id": "1D-NToORRwWE",
        "outputId": "87111653-52da-484f-c916-44e1c31b9edf"
      },
      "execution_count": 23,
      "outputs": [
        {
          "output_type": "stream",
          "name": "stdout",
          "text": [
            "ajoop si eman yM\n"
          ]
        }
      ]
    },
    {
      "cell_type": "code",
      "source": [
        "txt=\"wealcom to the python\"\n",
        "x = txt.split()\n",
        "for i in x:\n",
        "  print(i)\n"
      ],
      "metadata": {
        "colab": {
          "base_uri": "https://localhost:8080/"
        },
        "id": "sskob92_Uogz",
        "outputId": "0113dd9b-42e6-4cc6-f82e-bdc1b1f50a25"
      },
      "execution_count": 27,
      "outputs": [
        {
          "output_type": "stream",
          "name": "stdout",
          "text": [
            "wealcom\n",
            "to\n",
            "the\n",
            "python\n"
          ]
        }
      ]
    },
    {
      "cell_type": "code",
      "source": [
        "txt=\"welcome to the python\"\n",
        "x=txt.split()\n",
        "print(x)\n"
      ],
      "metadata": {
        "colab": {
          "base_uri": "https://localhost:8080/"
        },
        "id": "7T2p-WGqXegS",
        "outputId": "394a8d37-9dc1-4ba9-9ede-5b04365a9178"
      },
      "execution_count": 28,
      "outputs": [
        {
          "output_type": "stream",
          "name": "stdout",
          "text": [
            "['welcome', 'to', 'the', 'python']\n"
          ]
        }
      ]
    },
    {
      "cell_type": "code",
      "source": [
        "s= \"MY NAME IS POOJA\"\n",
        "SI"
      ],
      "metadata": {
        "id": "07aiXusXbVGr"
      },
      "execution_count": null,
      "outputs": []
    }
  ]
}
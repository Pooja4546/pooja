{
  "nbformat": 4,
  "nbformat_minor": 0,
  "metadata": {
    "colab": {
      "provenance": [],
      "authorship_tag": "ABX9TyO6pBLpkyNEJlWZWgKJPIaG",
      "include_colab_link": true
    },
    "kernelspec": {
      "name": "python3",
      "display_name": "Python 3"
    },
    "language_info": {
      "name": "python"
    }
  },
  "cells": [
    {
      "cell_type": "markdown",
      "metadata": {
        "id": "view-in-github",
        "colab_type": "text"
      },
      "source": [
        "<a href=\"https://colab.research.google.com/github/Pooja4546/pooja/blob/main/Untitled10.ipynb\" target=\"_parent\"><img src=\"https://colab.research.google.com/assets/colab-badge.svg\" alt=\"Open In Colab\"/></a>"
      ]
    },
    {
      "cell_type": "code",
      "execution_count": 2,
      "metadata": {
        "colab": {
          "base_uri": "https://localhost:8080/"
        },
        "id": "jBdS6uvq_rc7",
        "outputId": "e2f2d1f4-dbb9-4287-8465-9f8155acf8cf"
      },
      "outputs": [
        {
          "output_type": "stream",
          "name": "stdout",
          "text": [
            "['poja', 'radha', 'muskan']\n",
            "['poja', 'radha', 'muskan', 'sonu']\n"
          ]
        }
      ],
      "source": [
        "name =list((\"poja\",\"radha\",\"muskan\"))\n",
        "print(name)\n",
        "name.append(\"sonu\")\n",
        "print(name)\n"
      ]
    },
    {
      "cell_type": "code",
      "source": [
        "name=list((\"apple\",\"banana\",\"orange\"))\n",
        "print(name)\n",
        "name.insert(1,\"banana\")\n",
        "print(name)"
      ],
      "metadata": {
        "colab": {
          "base_uri": "https://localhost:8080/"
        },
        "id": "QI9qVJSbFdLT",
        "outputId": "f230c7a9-0e99-4deb-f400-160df1f1b29d"
      },
      "execution_count": 3,
      "outputs": [
        {
          "output_type": "stream",
          "name": "stdout",
          "text": [
            "['apple', 'banana', 'orange']\n",
            "['apple', 'banana', 'banana', 'orange']\n"
          ]
        }
      ]
    },
    {
      "cell_type": "code",
      "source": [
        "name=list((\"apple\",\"banana\",\"orange\"))\n",
        "print(name)\n",
        "print(name[0:2])"
      ],
      "metadata": {
        "colab": {
          "base_uri": "https://localhost:8080/"
        },
        "id": "hB3DccbZGzo-",
        "outputId": "ee5c958a-1115-4e47-fdf9-05f0c759bbf7"
      },
      "execution_count": 5,
      "outputs": [
        {
          "output_type": "stream",
          "name": "stdout",
          "text": [
            "['apple', 'banana', 'orange']\n",
            "['apple', 'banana']\n"
          ]
        }
      ]
    },
    {
      "cell_type": "code",
      "source": [
        "name=list((\"apple\",\"banana\",\"orange\"))\n",
        "print(name)\n",
        "name.remove(\"banana\")\n",
        "print(name)"
      ],
      "metadata": {
        "colab": {
          "base_uri": "https://localhost:8080/"
        },
        "id": "eqek3pu1H1mm",
        "outputId": "f699ea0f-6996-4fcd-ce8b-709706ba8066"
      },
      "execution_count": 7,
      "outputs": [
        {
          "output_type": "stream",
          "name": "stdout",
          "text": [
            "['apple', 'banana', 'orange']\n",
            "['apple', 'orange']\n"
          ]
        }
      ]
    },
    {
      "cell_type": "code",
      "source": [
        "name=list((\"apple\",\"banana\",\"orange\"))\n",
        "print(name)\n",
        "name.pop(1)\n",
        "print(name)"
      ],
      "metadata": {
        "colab": {
          "base_uri": "https://localhost:8080/"
        },
        "id": "jGrMuLmZINh9",
        "outputId": "a2ad36d7-d4e9-4663-c7a5-ad2c094caab6"
      },
      "execution_count": 8,
      "outputs": [
        {
          "output_type": "stream",
          "name": "stdout",
          "text": [
            "['apple', 'banana', 'orange']\n",
            "['apple', 'orange']\n"
          ]
        }
      ]
    }
  ]
}
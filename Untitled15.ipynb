{
  "nbformat": 4,
  "nbformat_minor": 0,
  "metadata": {
    "colab": {
      "provenance": [],
      "authorship_tag": "ABX9TyM4lVaDrtb+4sq/crEvNaGn",
      "include_colab_link": true
    },
    "kernelspec": {
      "name": "python3",
      "display_name": "Python 3"
    },
    "language_info": {
      "name": "python"
    }
  },
  "cells": [
    {
      "cell_type": "markdown",
      "metadata": {
        "id": "view-in-github",
        "colab_type": "text"
      },
      "source": [
        "<a href=\"https://colab.research.google.com/github/Pooja4546/pooja/blob/main/Untitled15.ipynb\" target=\"_parent\"><img src=\"https://colab.research.google.com/assets/colab-badge.svg\" alt=\"Open In Colab\"/></a>"
      ]
    },
    {
      "cell_type": "code",
      "execution_count": 3,
      "metadata": {
        "colab": {
          "base_uri": "https://localhost:8080/"
        },
        "id": "755GpQFTV7bP",
        "outputId": "b0860171-ec2d-4ede-c61a-15a9dfbf1bb8"
      },
      "outputs": [
        {
          "output_type": "stream",
          "name": "stdout",
          "text": [
            "error\n"
          ]
        }
      ],
      "source": [
        "try:\n",
        "  print(x)\n",
        "except:\n",
        "  print(\"error\")"
      ]
    },
    {
      "cell_type": "code",
      "source": [
        "from logging import exception\n",
        "a=10\n",
        "a=int(a)\n",
        "for i in range(a):\n",
        "  try:\n",
        "    if i==5:\n",
        "      raise Exception(\"wrong number\")\n",
        "  except Exception:\n",
        "      print(\"5 created error\")\n",
        ""
      ],
      "metadata": {
        "colab": {
          "base_uri": "https://localhost:8080/"
        },
        "id": "8XomDTaTZNGt",
        "outputId": "7e00af22-c83f-49c7-9baa-cb514a113ebe"
      },
      "execution_count": 5,
      "outputs": [
        {
          "output_type": "stream",
          "name": "stdout",
          "text": [
            "5 created error\n"
          ]
        }
      ]
    },
    {
      "cell_type": "code",
      "source": [
        "a=10\n",
        "a=int(a)\n",
        "for i in range(a):\n",
        "  try:\n",
        "    if i==5:\n",
        "      raise Exception(\"wrong number\")\n",
        "  except Exception as e:\n",
        "        print(e)\n",
        "        print(\"5 created error\")"
      ],
      "metadata": {
        "colab": {
          "base_uri": "https://localhost:8080/"
        },
        "id": "amPjp0f-d4PD",
        "outputId": "25b0921d-b094-4a27-8c9e-61697f806978"
      },
      "execution_count": 6,
      "outputs": [
        {
          "output_type": "stream",
          "name": "stdout",
          "text": [
            "wrong number\n",
            "5 created error\n"
          ]
        }
      ]
    },
    {
      "cell_type": "code",
      "source": [
        "try:\n",
        "  x > 3\n",
        "except:\n",
        "    print(\"something went wrong\")\n",
        "else:\n",
        "    print(\"nothing went wrong\")\n",
        "finally:\n",
        "    print(\"the try...except block is finished\")"
      ],
      "metadata": {
        "colab": {
          "base_uri": "https://localhost:8080/"
        },
        "id": "QPCiBhj6gMQg",
        "outputId": "723487ff-8fa3-47d4-c07d-c87b6685b2eb"
      },
      "execution_count": 7,
      "outputs": [
        {
          "output_type": "stream",
          "name": "stdout",
          "text": [
            "something went wrong\n",
            "the try...except block is finished\n"
          ]
        }
      ]
    }
  ]
}